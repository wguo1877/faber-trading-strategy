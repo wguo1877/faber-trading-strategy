{
 "cells": [
  {
   "cell_type": "markdown",
   "metadata": {},
   "source": [
    "# What is Faber's trading strategy?"
   ]
  },
  {
   "cell_type": "markdown",
   "metadata": {},
   "source": [
    "One buys when the monthly price of an asset exceeds its 10-month simple moving average and sells when the same price of that asset drops below its 10-month simple moving average."
   ]
  },
  {
   "cell_type": "markdown",
   "metadata": {},
   "source": [
    "# Reasons for this strategy in particular"
   ]
  },
  {
   "cell_type": "markdown",
   "metadata": {},
   "source": [
    "Faber claims that a market timing strategy outperforms the market average, as shown by its consistently better performance than a simple buy-and-hold strategy."
   ]
  },
  {
   "cell_type": "code",
   "execution_count": 1,
   "metadata": {
    "collapsed": false
   },
   "outputs": [],
   "source": [
    "%load_ext zipline"
   ]
  },
  {
   "cell_type": "code",
   "execution_count": 2,
   "metadata": {
    "collapsed": false
   },
   "outputs": [],
   "source": [
    "from zipline.api import order, record, symbol, date_rules, time_rules, schedule_function\n",
    "\n",
    "def initialize(context):\n",
    "    \"\"\"\n",
    "    Stores the names of the stocks we'll be looking at.\n",
    "    \n",
    "    Input: a persistent namespace where we store an SID/list of SIDs\n",
    "    \n",
    "    Output: n/a\n",
    "    \"\"\"\n",
    "    context.symbol = symbol('^GSPC')\n",
    "    \n",
    "    # skip the first 300 days of the timeframe so that we have enough data to calculate our 10 month SMA\n",
    "    context.skip = 0\n",
    "    \n",
    "    # # get every monthly closing price after 8/31/14\n",
    "    # context.monthly = web.get_data_google(context.symbol, '8/31/2014', interval='m')\n",
    "    \n",
    "def handle_data(context, data):\n",
    "    \"\"\"\n",
    "    Calls the trading strategy function at the end of every month.\n",
    "    \n",
    "    Input: persistent namespace with SID(s) 'context', event-frame that handles look-ups of historical/current pricing data\n",
    "    \n",
    "    Output: some kind of action (buy/sell/nothing)\n",
    "    \"\"\"\n",
    "    # skip the first 100 days so that we have enough data to establish our moving average\n",
    "    context.skip += 1\n",
    "    if context.skip < 300:\n",
    "        pass\n",
    "    else:\n",
    "        # we only trade on the last trading day of each month; check here if it's the last day\n",
    "        schedule_function(trade, date_rules.month_end(), time_rules.market_close())\n",
    "    \n",
    "def trade(context, data):\n",
    "    \"\"\"\n",
    "    Herein lies Faber's trading strategy.\n",
    "    \n",
    "    Input: persistent namespace with SID(s) 'context', event-frame that handles look-ups of historical/current pricing data\n",
    "    \n",
    "    Output: some kind of action (buy/sell/nothing) on the last trading day of each month\n",
    "    \"\"\"\n",
    "    # Compute SMA\n",
    "    moving_avg = data.history(context.symbol, 'price', 300, '1d').mean()\n",
    "    \n",
    "    # Get closing price on last trading day of month\n",
    "    monthly_price = data.current(context.symbol, 'close')\n",
    "    \n",
    "    ### Faber's trading strategy ###\n",
    "    \n",
    "    # if the current price exceeds moving average, buy\n",
    "    if monthly_price > moving_avg:\n",
    "        order(context.symbol, 10)\n",
    "\n",
    "    # else if the current price is below moving average, sell\n",
    "    elif monthly_price < moving_avg:\n",
    "        order(context.symbol, -10)\n",
    "    \n",
    "    # save/record the data for future plotting\n",
    "    record(S_and_P = monthly_price, sma = moving_avg)\n",
    "    \n",
    "def analyze(context = None, results = None):\n",
    "    \"\"\"\n",
    "    Plots the results of the strategy against a buy-and-hold strategy.\n",
    "    \n",
    "    Input: n/a?\n",
    "    \n",
    "    Output: a plot of two superimposed curves, one being Faber's strategy and the other being a buy-and-hold strategy.\n",
    "    \"\"\"\n",
    "    import matplotlib.pyplot as plt\n",
    "    import logbook\n",
    "    logbook.StderrHandler().push_application()\n",
    "    log = logbook.Logger('Algorithm')\n",
    "\n",
    "    fig = plt.figure()\n",
    "    ax1 = fig.add_subplot(211)\n",
    "    results.portfolio_value.plot(ax=ax1)\n",
    "    ax1.set_ylabel('Portfolio value (USD)')\n",
    "\n",
    "    ax2 = fig.add_subplot(212)\n",
    "    ax2.set_ylabel('Price (USD)')\n",
    "\n",
    "    # If data has been record()ed, then plot it.\n",
    "    # Otherwise, log the fact that no data has been recorded.\n",
    "    if ('S_and_P' in results and 'sma' in results):\n",
    "        results['S&P'].plot(ax=ax2)\n",
    "        results['sma'].plot(ax=ax2)\n",
    "\n",
    "        trans = results.ix[[t != [] for t in results.transactions]]\n",
    "        buys = trans.ix[[t[0]['amount'] > 0 for t in\n",
    "                         trans.transactions]]\n",
    "        sells = trans.ix[\n",
    "            [t[0]['amount'] < 0 for t in trans.transactions]]\n",
    "        ax2.plot(buys.index, results.sma.ix[buys.index],\n",
    "                 '^', markersize=10, color='m')\n",
    "        ax2.plot(sells.index, results.sma.ix[sells.index],\n",
    "                 'v', markersize=10, color='k')\n",
    "        plt.legend(loc=0)\n",
    "    else:\n",
    "        msg = 'S&P, moving_avg data not captured using record().'\n",
    "        ax2.annotate(msg, xy=(0.1, 0.5))\n",
    "        log.info(msg)\n",
    "\n",
    "    plt.show()    "
   ]
  },
  {
   "cell_type": "code",
   "execution_count": null,
   "metadata": {
    "collapsed": false
   },
   "outputs": [],
   "source": [
    "%zipline --start 2014-1-1 --end 2017-1-1 -b quantopian-quandl"
   ]
  },
  {
   "cell_type": "code",
   "execution_count": null,
   "metadata": {
    "collapsed": true
   },
   "outputs": [],
   "source": []
  }
 ],
 "metadata": {
  "kernelspec": {
   "display_name": "Python 2",
   "language": "python",
   "name": "python2"
  },
  "language_info": {
   "codemirror_mode": {
    "name": "ipython",
    "version": 2
   },
   "file_extension": ".py",
   "mimetype": "text/x-python",
   "name": "python",
   "nbconvert_exporter": "python",
   "pygments_lexer": "ipython2",
   "version": "2.7.13"
  }
 },
 "nbformat": 4,
 "nbformat_minor": 2
}
