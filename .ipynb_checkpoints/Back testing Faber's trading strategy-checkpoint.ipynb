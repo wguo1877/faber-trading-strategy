{
 "cells": [
  {
   "cell_type": "markdown",
   "metadata": {},
   "source": [
    "# What is Faber's trading strategy?"
   ]
  },
  {
   "cell_type": "markdown",
   "metadata": {},
   "source": [
    "One buys when the monthly price of an asset in our portfolio exceeds its 10-month simple moving average and sells and moves to cash when the same price of that asset drops below its 10-month simple moving average. There is, however, one caveat for every monthly trading period: the total cash spent must not exceed the portfolio's total valuation. This rule is to prevent the algorithm from heavily borrowing to buy more assets. This practice is obviously very risky in practice and leads to overoptimistic results given our backtesting period is only within the past 7 or so years where the market has performed well."
   ]
  },
  {
   "cell_type": "markdown",
   "metadata": {},
   "source": [
    "# Reasons for this strategy in particular"
   ]
  },
  {
   "cell_type": "markdown",
   "metadata": {},
   "source": [
    "Faber claims that a market timing strategy outperforms the market average, as shown by its consistently better performance than a simple buy-and-hold strategy. Furthermore, we can avoid look-ahead bias since our calculations are based solely on the close prices of the last trading day of each month. Then, assuming that the next trading day's price will be relatively similar to the previous day's closing price, we can reliably buy our asset at a price similar to the aforementioned closing price.\n",
    "\n",
    "Finally, this strategy is very simple, to the point that it may be oversimplistic (we do not account for slippage or transaction costs). We buy a fixed number of shares whenever the monthly price exceeds the 10-month SMA and sell all of our shares of a particular asset when its monthly price is below the 10-month SMA. Therefore, we can confidently say that our model most likely does not suffer from overfitting."
   ]
  },
  {
   "cell_type": "code",
   "execution_count": 2,
   "metadata": {
    "collapsed": false
   },
   "outputs": [
    {
     "name": "stdout",
     "output_type": "stream",
     "text": [
      "The zipline extension is already loaded. To reload it, use:\n",
      "  %reload_ext zipline\n"
     ]
    }
   ],
   "source": [
    "%load_ext zipline"
   ]
  },
  {
   "cell_type": "code",
   "execution_count": 8,
   "metadata": {
    "collapsed": false
   },
   "outputs": [],
   "source": [
    "# %load algos/faber.py\n",
    "import sys\n",
    "sys.path.append('C:/Users/William/Documents/GitHub/faber-trading-strategy/algos')\n",
    "from numpy import mean\n",
    "from collections import defaultdict\n",
    "from zipline.api import order, order_target, record, symbol, date_rules, time_rules, schedule_function, set_slippage, slippage\n",
    "from write_to_sql import run\n",
    "import pandas as pd\n",
    "\n",
    "from zipline import TradingAlgorithm\n",
    "from zipline.finance import commission\n",
    "\n",
    "priorOpen = None\n",
    "priorClose = None\n",
    "\n",
    "def initialize(context):\n",
    "    \"\"\"\n",
    "    Stores the names of the stocks we'll be looking at.\n",
    "    \n",
    "    Input: a persistent namespace where we store an SID/list of SIDs\n",
    "    \n",
    "    Output: n/a\n",
    "    \"\"\"\n",
    "    set_slippage(TradeAtTheCloseSlippageModel(priorOpen,priorClose,0.0))\n",
    "    context.set_commission(commission.PerShare(cost=0))\n",
    "\n",
    "    context.benchmark = symbol('SPY')\n",
    "\n",
    "    context.symbol = [symbol('XLB'),\n",
    "                      symbol('XLE'),\n",
    "                      symbol('XLF'), \n",
    "                      symbol('XLK'), \n",
    "                      symbol('XLP'), \n",
    "                      symbol('XLY')]\n",
    "\n",
    "    # skip the first 300 days of the timeframe so that we have enough data to calculate our 10 month SMA\n",
    "    context.skip = 0\n",
    "    context.init = True\n",
    "\n",
    "    context.moving_avg = defaultdict(int)\n",
    "    context.monthly_price = defaultdict(list) \n",
    "\n",
    "    # keeps track of which assets to trade \n",
    "    context.buy = []\n",
    "    context.sell = []\n",
    "\n",
    "    # skip the first 10 months so that we have enough data to establish our moving average    \n",
    "    schedule_function(get_assets, date_rules.month_end(), time_rules.market_open(minutes=1))\n",
    "\n",
    "def handle_data(context, data):\n",
    "    \"\"\"\n",
    "    Calls the trading strategy function at the end of every month.\n",
    "    \n",
    "    Input: persistent namespace with SID(s) 'context', event-frame that handles look-ups of historical/current pricing data\n",
    "    \n",
    "    Output: some kind of action (buy/sell/nothing)\n",
    "    \"\"\"\n",
    "    pass\n",
    "\n",
    "def get_assets(context, data):\n",
    "    \"\"\"\n",
    "    Although we actually trade at the beginning of the trading month, the way Zipline handles orders is that the fill prices of orders\n",
    "    are the next bar's closing price. We have a list of assets we want to trade and we order_target() them, allowing us to purchase\n",
    "    using the end of the previous month's closing price.\n",
    "    \n",
    "    Input: persistent namespace with SID(s) 'context', event-frame that handles look-ups of historical/current pricing data\n",
    "    \n",
    "    Output: a list of assets to trade\n",
    "    \"\"\"    \n",
    "    context.skip += 1\n",
    "\n",
    "    context.buy = []\n",
    "    context.sell = []\n",
    "\n",
    "    if context.skip < 10:\n",
    "        for asset in context.symbol:\n",
    "            price = data.current(asset, 'close')\n",
    "            context.monthly_price[asset].append(price)\n",
    "\n",
    "    else:\n",
    "        for asset in context.symbol:\n",
    "            price = data.current(asset, 'close')\n",
    "\n",
    "            # Get closing price on last trading day of month\n",
    "            context.monthly_price[asset].append(price)\n",
    "\n",
    "            if context.skip > 10:\n",
    "                del context.monthly_price[asset][0]\n",
    "\n",
    "            # calculate the 10-month moving average of each asset\n",
    "            context.moving_avg[asset] = mean(context.monthly_price[asset])\n",
    "        \n",
    "        ### Faber's trading strategy ###\n",
    "        \n",
    "        # if the current price exceeds moving average and we haven't already bought any shares, buy\n",
    "        for asset in context.symbol:\n",
    "            # the most current monthly price will be the one added most recently (so it'll be the element on the end of the list)\n",
    "            if context.monthly_price[asset][-1] >= context.moving_avg[asset]:\n",
    "                context.buy.append(asset)\n",
    "                order_target(asset,50)\n",
    "\n",
    "            # else if the current price is below moving average and we have 500 shares of the asset, sell\n",
    "            elif context.monthly_price[asset][-1] < context.moving_avg[asset]:\n",
    "                context.sell.append(asset)\n",
    "                order_target(asset, 0)\n",
    "\n",
    "    global priorOpen\n",
    "    global priorClose\n",
    "    \n",
    "    priorOpen = {}\n",
    "    priorClose = {}\n",
    "    \n",
    "    for sid in data:\n",
    "        priorOpen[sid] = data[sid].open_price\n",
    "        priorClose[sid] = data[sid].close_price\n",
    "        # print sid.symbol+' prior open/close: '+str(priorOpen[sid])+'/'+str(priorClose[sid])\n",
    "    \n",
    "def analyze(context = None, results = None):\n",
    "    \"\"\"\n",
    "    Plots the results of the strategy against a buy-and-hold strategy.\n",
    "    \n",
    "    Input: n/a?\n",
    "    \n",
    "    Output: a plot of two superimposed curves, one being Faber's strategy and the other being a buy-and-hold strategy.\n",
    "    \"\"\"\n",
    "    # import matplotlib.pyplot as plt\n",
    "\n",
    "    # txn = results['transactions']\n",
    "    # txn.to_csv('transactions.csv')\n",
    "\n",
    "    # fig = plt.figure()\n",
    "    # ax1 = fig.add_subplot(211)\n",
    "\n",
    "    # # plot both the portfolio based on faber's strategy and a buy-and-hold strategy\n",
    "    # results['portfolio'].plot(ax=ax1)\n",
    "    # results['SPY'].plot(ax=ax1)\n",
    "    # ax1.set_ylabel('Portfolio value (USD)')\n",
    "\n",
    "    # ax2 = fig.add_subplot(212)\n",
    "    # results['returns'].plot(ax=ax2)\n",
    "    # ax2.set_ylabel('Cumulative Returns')\n",
    "\n",
    "    # results['SPY'].to_csv('benchmark.csv')\n",
    "   \n",
    "    # # export portfolio values to csv file\n",
    "    # results['returns'].to_csv('zipline_returns.csv')\n",
    "\n",
    "    # plt.show()\n",
    "\n",
    "    import pyfolio as pf\n",
    "\n",
    "    returns, positions, transactions = pf.utils.extract_rets_pos_txn_from_zipline(results)\n",
    "    transactions.to_csv(\"txn_end.csv\")\n",
    "    pf.create_simple_tear_sheet(returns, positions=positions, transactions=transactions)\n",
    "\n",
    "    # tickers = []\n",
    "    # for symbol in context.symbol:\n",
    "    #     symbol = str(symbol).translate(None, '0123456789[]() ')[6:]\n",
    "    #     tickers.append(symbol)\n",
    "\n",
    "    # run('test.db', results, 'faber', tickers)\n",
    "\n",
    "########################################################  \n",
    "# Slippage model to trade at the prior close or at a fraction of the prior open - close range.  \n",
    "class TradeAtTheCloseSlippageModel(slippage.SlippageModel):  \n",
    "    '''Class for slippage model to allow trading at the prior close  \n",
    "       or at a fraction of the prior open to close range.  \n",
    "    '''  \n",
    "    # Constructor, self and fraction of the prior open to close range to add (subtract)  \n",
    "    # from the prior open to model executions more optimistically  \n",
    "    def __init__(self, priorOpen,priorClose,fractionOfOpenCloseRange):\n",
    "\n",
    "        # Store the percent of prior open - close range to take as the execution price  \n",
    "        self.priorOpen = priorOpen\n",
    "        self.priorClose = priorClose\n",
    "        self.fractionOfOpenCloseRange = fractionOfOpenCloseRange\n",
    "\n",
    "    def process_order(self, trade_bar, order):\n",
    "\n",
    "        openPrice = priorOpen[order.sid]  \n",
    "        closePrice = priorClose[order.sid]  \n",
    "        ocRange = closePrice - openPrice  \n",
    "        ocRange = ocRange * self.fractionOfOpenCloseRange  \n",
    "        if (ocRange != 0.0):  \n",
    "            targetExecutionPrice = closePrice - ocRange  \n",
    "        else:  \n",
    "            targetExecutionPrice = closePrice  \n",
    "\n",
    "        return (targetExecutionPrice, order.amount)"
   ]
  },
  {
   "cell_type": "code",
   "execution_count": null,
   "metadata": {
    "collapsed": false,
    "scrolled": false
   },
   "outputs": [
    {
     "name": "stderr",
     "output_type": "stream",
     "text": [
      "C:\\Users\\William\\Anaconda2\\lib\\site-packages\\ipykernel\\__main__.py:113: ZiplineDeprecationWarning: Iterating over the assets in `data` is deprecated.\n",
      "C:\\Users\\William\\Anaconda2\\lib\\site-packages\\ipykernel\\__main__.py:114: ZiplineDeprecationWarning: `data[sid(N)]` is deprecated. Use `data.current`.\n",
      "C:\\Users\\William\\Anaconda2\\lib\\site-packages\\ipykernel\\__main__.py:115: ZiplineDeprecationWarning: `data[sid(N)]` is deprecated. Use `data.current`.\n"
     ]
    }
   ],
   "source": [
    "%zipline --start 2009-9-1 --end 2017-5-1 -b faber-bundle --capital-base 10000"
   ]
  },
  {
   "cell_type": "code",
   "execution_count": null,
   "metadata": {
    "collapsed": true
   },
   "outputs": [],
   "source": []
  }
 ],
 "metadata": {
  "kernelspec": {
   "display_name": "Python 2",
   "language": "python",
   "name": "python2"
  },
  "language_info": {
   "codemirror_mode": {
    "name": "ipython",
    "version": 2
   },
   "file_extension": ".py",
   "mimetype": "text/x-python",
   "name": "python",
   "nbconvert_exporter": "python",
   "pygments_lexer": "ipython2",
   "version": "2.7.13"
  }
 },
 "nbformat": 4,
 "nbformat_minor": 2
}
